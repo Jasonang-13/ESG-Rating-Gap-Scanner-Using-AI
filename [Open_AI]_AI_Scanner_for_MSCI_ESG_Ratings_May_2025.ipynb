{
  "nbformat": 4,
  "nbformat_minor": 0,
  "metadata": {
    "colab": {
      "provenance": [],
      "authorship_tag": "ABX9TyPIC79AAiohLSMZhwC6m2OG",
      "include_colab_link": true
    },
    "kernelspec": {
      "name": "python3",
      "display_name": "Python 3"
    },
    "language_info": {
      "name": "python"
    }
  },
  "cells": [
    {
      "cell_type": "markdown",
      "metadata": {
        "id": "view-in-github",
        "colab_type": "text"
      },
      "source": [
        "<a href=\"https://colab.research.google.com/github/Jasonang-13/ESG-Rating-Gap-Scanner-Using-AI/blob/main/%5BOpen_AI%5D_AI_Scanner_for_MSCI_ESG_Ratings_May_2025.ipynb\" target=\"_parent\"><img src=\"https://colab.research.google.com/assets/colab-badge.svg\" alt=\"Open In Colab\"/></a>"
      ]
    },
    {
      "cell_type": "code",
      "source": [
        "# 🔑 Step 0: Set your OpenAI API key securely\n",
        "import os\n",
        "from getpass import getpass\n",
        "\n",
        "# Prompt user to enter API key securely\n",
        "os.environ[\"OPENAI_API_KEY\"] = getpass(\"🔐 Enter your OpenAI API key: \")\n",
        "\n",
        "#____________________________________________________________________________\n",
        "\n",
        "# 📥 Step 1: Upload and Extract Text from PDF ESG Report\n",
        "from google.colab import files\n",
        "print(\"📄 Please upload the Sustainability or Annual Report (PDF format only)\")\n",
        "pdf_uploaded = files.upload()\n",
        "\n",
        "# Install PyPDF2 quietly\n",
        "!pip install PyPDF2 --quiet\n",
        "from PyPDF2 import PdfReader\n",
        "\n",
        "# Extract text from uploaded PDF\n",
        "pdf_filename = next((f for f in pdf_uploaded if f.endswith(\".pdf\")), None)\n",
        "if pdf_filename:\n",
        "    reader = PdfReader(pdf_filename)\n",
        "    text = \"\".join(page.extract_text() or \"\" for page in reader.pages)\n",
        "    print(\"✔️ PDF ESG report loaded and text extracted.\")\n",
        "else:\n",
        "    print(\"❌ No PDF file found. Please upload a valid PDF file.\")\n",
        "\n",
        "#____________________________________________________________________________\n",
        "\n",
        "# 📊 Step 2: Upload and Load ESG Criteria from Excel\n",
        "print(\"\\n📊 Please upload the ESG Criteria checklist (Excel format only).\")\n",
        "excel_uploaded = files.upload()\n",
        "\n",
        "import pandas as pd\n",
        "\n",
        "excel_filename = next((f for f in excel_uploaded if f.endswith((\".xlsx\", \".xls\"))), None)\n",
        "if excel_filename:\n",
        "    df = pd.read_excel(excel_filename)\n",
        "    esg_criteria = df.iloc[:, 0].dropna().tolist()\n",
        "    print(\"✔️ ESG criteria successfully loaded:\")\n",
        "    for i, criterion in enumerate(esg_criteria, 1):\n",
        "        print(f\"{i}. {criterion}\")\n",
        "else:\n",
        "    print(\"❌ No Excel file found. Please upload a valid .xlsx or .xls file.\")\n",
        "\n",
        "#____________________________________________________________________________\n",
        "\n",
        "# 🤖 Step 3: Analyze ESG Report Using OpenAI SDK v1.0.0+\n",
        "# Install OpenAI SDK if not already installed\n",
        "!pip install --upgrade openai --quiet\n",
        "\n",
        "from openai import OpenAI\n",
        "\n",
        "# Initialize OpenAI client\n",
        "client = OpenAI(api_key=os.environ[\"OPENAI_API_KEY\"])\n",
        "\n",
        "# Define analysis function\n",
        "def scan_for_gaps(text, criteria_list):\n",
        "    prompt = f\"\"\"\n",
        "You are an ESG analyst. Review the following ESG report content and assess the level of disclosure for each criterion listed.\n",
        "\n",
        "Report Content (excerpt):\n",
        "{text[:3000]}\n",
        "\n",
        "Criteria:\n",
        "{', '.join(criteria_list)}\n",
        "\n",
        "For each criterion, respond with:\n",
        "- Disclosure Status: Fully Disclosed / Partially Disclosed / Not Disclosed\n",
        "- Suggested Improvement (if any)\n",
        "\n",
        "Respond in a simple bullet list format.\n",
        "\"\"\"\n",
        "    response = client.chat.completions.create(\n",
        "        model=\"gpt-3.5-turbo\",\n",
        "        messages=[\n",
        "            {\"role\": \"system\", \"content\": \"You are an ESG analyst.\"},\n",
        "            {\"role\": \"user\", \"content\": prompt}\n",
        "        ]\n",
        "    )\n",
        "    return response.choices[0].message.content\n",
        "\n",
        "# Run analysis if data is available\n",
        "if 'text' in globals() and 'esg_criteria' in globals() and text and esg_criteria:\n",
        "    print(\"\\n📋 ESG Disclosure Analysis:\\n\")\n",
        "    print(scan_for_gaps(text, esg_criteria))\n",
        "else:\n",
        "    print(\"⚠️ Skipping analysis: Missing report text or ESG criteria.\")"
      ],
      "metadata": {
        "id": "RWVSAOCSPE6J"
      },
      "execution_count": null,
      "outputs": []
    }
  ]
}